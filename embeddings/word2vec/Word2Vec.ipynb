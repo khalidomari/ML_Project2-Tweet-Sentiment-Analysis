{
 "cells": [
  {
   "cell_type": "code",
   "execution_count": 1,
   "metadata": {},
   "outputs": [
    {
     "name": "stderr",
     "output_type": "stream",
     "text": [
      "C:\\ProgramData\\Anaconda3\\lib\\site-packages\\gensim\\utils.py:860: UserWarning: detected Windows; aliasing chunkize to chunkize_serial\n",
      "  warnings.warn(\"detected Windows; aliasing chunkize to chunkize_serial\")\n"
     ]
    }
   ],
   "source": [
    "#import\n",
    "from sklearn.feature_extraction.text import TfidfVectorizer\n",
    "from sklearn.model_selection import train_test_split\n",
    "from nltk.tokenize import TweetTokenizer\n",
    "from nltk.stem import WordNetLemmatizer\n",
    "from collections import Counter\n",
    "import numpy as np\n",
    "import nltk\n",
    "import string\n",
    "import gensim\n",
    "import pickle\n",
    "import time\n",
    "import csv"
   ]
  },
  {
   "cell_type": "code",
   "execution_count": 2,
   "metadata": {},
   "outputs": [
    {
     "name": "stdout",
     "output_type": "stream",
     "text": [
      "Loading data .... \n",
      "Tokenizing ...\n",
      "~~~ positive ...\n",
      "~~~ negative ...\n",
      "~~~ test ...\n"
     ]
    }
   ],
   "source": [
    "#Loading Data\n",
    "print('Loading data .... ')\n",
    "DATA_PATH = '../../data/corrected_data/corrected_datasets_stopwords_pos_neg_test.p'\n",
    "[pos, neg, test] = pickle.load(open(DATA_PATH,'rb'))\n",
    "pos = list(set(pos))\n",
    "neg = list(set(neg))\n",
    "\n",
    "#Tokenize\n",
    "print('Tokenizing ...')\n",
    "\n",
    "print('~~~ positive ...')\n",
    "tknzr = TweetTokenizer()\n",
    "pos = [tknzr.tokenize(tweet) for tweet in pos]\n",
    "\n",
    "print('~~~ negative ...')\n",
    "neg = [tknzr.tokenize(tweet) for tweet in neg]\n",
    "\n",
    "print('~~~ test ...')\n",
    "test = [tknzr.tokenize(tweet) for tweet in test] "
   ]
  },
  {
   "cell_type": "code",
   "execution_count": 3,
   "metadata": {},
   "outputs": [
    {
     "name": "stdout",
     "output_type": "stream",
     "text": [
      "Generating word2vec model ...\n"
     ]
    }
   ],
   "source": [
    "print('Generating word2vec model ...')\n",
    "size = 400\n",
    "window = 6\n",
    "w2v_model = gensim.models.Word2Vec(pos + neg + test, size=size, window=window, min_count=1, workers=4)"
   ]
  },
  {
   "cell_type": "code",
   "execution_count": 7,
   "metadata": {},
   "outputs": [
    {
     "data": {
      "text/plain": [
       "[('depressed', 0.6974055767059326),\n",
       " ('upset', 0.6818118691444397),\n",
       " ('upsetting', 0.6068414449691772),\n",
       " ('disappointed', 0.5940439701080322),\n",
       " ('depressing', 0.5874060988426208),\n",
       " ('heartbreaking', 0.5321645736694336),\n",
       " ('heartbroken', 0.5254987478256226),\n",
       " ('disappointing', 0.4960673153400421),\n",
       " ('unhappy', 0.4956008195877075),\n",
       " ('bummer', 0.4934716522693634)]"
      ]
     },
     "execution_count": 7,
     "metadata": {},
     "output_type": "execute_result"
    }
   ],
   "source": [
    "w2v_model.wv.most_similar('sad')"
   ]
  },
  {
   "cell_type": "code",
   "execution_count": 31,
   "metadata": {},
   "outputs": [
    {
     "data": {
      "text/plain": [
       "2.8705184763401284"
      ]
     },
     "execution_count": 31,
     "metadata": {},
     "output_type": "execute_result"
    }
   ],
   "source": [
    "1/0.34836912155151367"
   ]
  },
  {
   "cell_type": "code",
   "execution_count": 21,
   "metadata": {},
   "outputs": [
    {
     "data": {
      "text/plain": [
       "0.13791323930949043"
      ]
     },
     "execution_count": 21,
     "metadata": {},
     "output_type": "execute_result"
    }
   ],
   "source": [
    "w2v_model.wv.similarity('sad', 'fun')"
   ]
  },
  {
   "cell_type": "code",
   "execution_count": 9,
   "metadata": {},
   "outputs": [
    {
     "data": {
      "text/plain": [
       "[('funk', 0.4601690471172333),\n",
       " ('enjoyable', 0.4099023938179016),\n",
       " ('enjoy', 0.38496530055999756),\n",
       " ('great', 0.3674713969230652),\n",
       " ('exciting', 0.3558448553085327),\n",
       " ('awesome', 0.34836912155151367),\n",
       " ('parting', 0.3401173949241638),\n",
       " ('easier', 0.33113428950309753),\n",
       " ('interesting', 0.3234562575817108),\n",
       " ('boring', 0.320720911026001)]"
      ]
     },
     "execution_count": 9,
     "metadata": {},
     "output_type": "execute_result"
    }
   ],
   "source": [
    "w2v_model.wv.most_similar('fun')"
   ]
  },
  {
   "cell_type": "code",
   "execution_count": 15,
   "metadata": {},
   "outputs": [
    {
     "data": {
      "text/plain": [
       "[('presidential', 0.6724640130996704),\n",
       " ('presidency', 0.6500610113143921),\n",
       " ('former', 0.6340199708938599),\n",
       " ('election', 0.6201687455177307),\n",
       " ('barrack', 0.6116220951080322),\n",
       " ('chairman', 0.5982679724693298),\n",
       " ('bide', 0.5886062383651733),\n",
       " ('mayor', 0.5862147808074951),\n",
       " ('council', 0.5743486881256104),\n",
       " ('governor', 0.5705026388168335)]"
      ]
     },
     "execution_count": 15,
     "metadata": {},
     "output_type": "execute_result"
    }
   ],
   "source": [
    "w2v_model.wv.most_similar('president')"
   ]
  },
  {
   "cell_type": "code",
   "execution_count": 16,
   "metadata": {},
   "outputs": [
    {
     "data": {
      "text/plain": [
       "[('romania', 0.7580364942550659),\n",
       " ('belgium', 0.7492327690124512),\n",
       " ('greece', 0.7351925373077393),\n",
       " ('austria', 0.724677324295044),\n",
       " ('finland', 0.7217211723327637),\n",
       " ('croatia', 0.7165208458900452),\n",
       " ('estonia', 0.7100839614868164),\n",
       " ('sweden', 0.7075531482696533),\n",
       " ('ecuador', 0.702578067779541),\n",
       " ('hungary', 0.6994616985321045)]"
      ]
     },
     "execution_count": 16,
     "metadata": {},
     "output_type": "execute_result"
    }
   ],
   "source": [
    "w2v_model.wv.most_similar('switzerland')"
   ]
  },
  {
   "cell_type": "code",
   "execution_count": 17,
   "metadata": {},
   "outputs": [
    {
     "data": {
      "text/plain": [
       "[('romania', 0.8790174126625061),\n",
       " ('belgium', 0.8746155500411987),\n",
       " ('greece', 0.8675954341888428),\n",
       " ('austria', 0.8623378276824951),\n",
       " ('finland', 0.860859751701355),\n",
       " ('croatia', 0.8582595586776733),\n",
       " ('estonia', 0.8550411462783813),\n",
       " ('sweden', 0.8537757396697998),\n",
       " ('ecuador', 0.8512881994247437),\n",
       " ('hungary', 0.8497300148010254)]"
      ]
     },
     "execution_count": 17,
     "metadata": {},
     "output_type": "execute_result"
    }
   ],
   "source": [
    "w2v_model.wv.most_similar_cosmul('switzerland')"
   ]
  }
 ],
 "metadata": {
  "kernelspec": {
   "display_name": "Python 3",
   "language": "python",
   "name": "python3"
  },
  "language_info": {
   "codemirror_mode": {
    "name": "ipython",
    "version": 3
   },
   "file_extension": ".py",
   "mimetype": "text/x-python",
   "name": "python",
   "nbconvert_exporter": "python",
   "pygments_lexer": "ipython3",
   "version": "3.6.3"
  }
 },
 "nbformat": 4,
 "nbformat_minor": 2
}
