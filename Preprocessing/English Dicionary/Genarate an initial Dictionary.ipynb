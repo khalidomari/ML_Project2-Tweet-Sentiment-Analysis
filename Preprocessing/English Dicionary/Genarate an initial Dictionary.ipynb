{
 "cells": [
  {
   "cell_type": "code",
   "execution_count": 1,
   "metadata": {
    "collapsed": true
   },
   "outputs": [],
   "source": [
    "import numpy as np\n",
    "import string\n",
    "from nltk.tokenize import TweetTokenizer\n",
    "import pickle"
   ]
  },
  {
   "cell_type": "code",
   "execution_count": 76,
   "metadata": {
    "collapsed": true
   },
   "outputs": [],
   "source": [
    "def tokenize(text):\n",
    "    tknzr = TweetTokenizer()\n",
    "    return tknzr.tokenize(text)\n",
    "\n",
    "def correct(sentence):\n",
    "    tokens = tokenize(sentence)\n",
    "    new_tokens = []\n",
    "    for token in tokens:\n",
    "        if token in contractions_dict:\n",
    "            new_tokens.append(contractions_dict[token])\n",
    "        elif len(token)>1:\n",
    "            new_tokens.append(''.join(c for c in token if c not in string.punctuation))\n",
    "    return ' '.join(new_tokens)"
   ]
  },
  {
   "cell_type": "markdown",
   "metadata": {},
   "source": [
    "### Upload Dictionaries"
   ]
  },
  {
   "cell_type": "code",
   "execution_count": 3,
   "metadata": {
    "collapsed": true
   },
   "outputs": [],
   "source": [
    "english_words = np.asarray([line.rstrip('\\n').lower() for line in open('english_words.txt')])\n",
    "acronyms = np.asarray([line.rstrip('\\n').lower() for line in open('netlingo_acronyms.txt')])\n",
    "smileys = np.asarray([line.rstrip('\\n').lower() for line in open('netlingo_smileys.txt')])\n",
    "contractions = np.asarray([line.rstrip('\\n').lower() for line in open('contractions.txt')])"
   ]
  },
  {
   "cell_type": "code",
   "execution_count": 4,
   "metadata": {
    "collapsed": true
   },
   "outputs": [],
   "source": [
    "idx = np.arange(int(len(english_words)/3))"
   ]
  },
  {
   "cell_type": "markdown",
   "metadata": {},
   "source": [
    "##### English Dictionary"
   ]
  },
  {
   "cell_type": "code",
   "execution_count": 5,
   "metadata": {
    "collapsed": true
   },
   "outputs": [],
   "source": [
    "english_dictionary = dict(zip(english_words[3*idx+1], english_words[3*idx+1]))"
   ]
  },
  {
   "cell_type": "code",
   "execution_count": 6,
   "metadata": {
    "collapsed": true
   },
   "outputs": [],
   "source": [
    "freq =  dict(zip(english_words[3*idx+1], english_words[3*idx+2]))"
   ]
  },
  {
   "cell_type": "code",
   "execution_count": 7,
   "metadata": {},
   "outputs": [
    {
     "data": {
      "text/plain": [
       "36662"
      ]
     },
     "execution_count": 7,
     "metadata": {},
     "output_type": "execute_result"
    }
   ],
   "source": [
    "len(freq)"
   ]
  },
  {
   "cell_type": "markdown",
   "metadata": {},
   "source": [
    "#### Contractions"
   ]
  },
  {
   "cell_type": "code",
   "execution_count": 8,
   "metadata": {},
   "outputs": [
    {
     "data": {
      "text/plain": [
       "117"
      ]
     },
     "execution_count": 8,
     "metadata": {},
     "output_type": "execute_result"
    }
   ],
   "source": [
    "idx = np.arange(int(len(contractions)/2))\n",
    "contractions_dict = dict(zip(contractions[2*idx], contractions[2*idx+1]))\n",
    "len(contractions_dict)"
   ]
  },
  {
   "cell_type": "code",
   "execution_count": 12,
   "metadata": {},
   "outputs": [
    {
     "data": {
      "text/plain": [
       "'would not have'"
      ]
     },
     "execution_count": 12,
     "metadata": {},
     "output_type": "execute_result"
    }
   ],
   "source": [
    "contractions_dict[\"wouldn't've\"]"
   ]
  },
  {
   "cell_type": "markdown",
   "metadata": {},
   "source": [
    "##### Acronyms dictionary"
   ]
  },
  {
   "cell_type": "code",
   "execution_count": 80,
   "metadata": {},
   "outputs": [
    {
     "data": {
      "text/plain": [
       "2514"
      ]
     },
     "execution_count": 80,
     "metadata": {},
     "output_type": "execute_result"
    }
   ],
   "source": [
    "acronyms = np.asarray([line.rstrip('\\n').lower() for line in open('netlingo_acronyms.txt')])\n",
    "idx = np.arange(int(len(acronyms)/2))\n",
    "acronyms_dict = dict(zip(acronyms[2*idx], acronyms[2*idx+1]))\n",
    "len(acronyms_dict)"
   ]
  },
  {
   "cell_type": "code",
   "execution_count": 81,
   "metadata": {},
   "outputs": [],
   "source": [
    "#Remove multi explications\n",
    "for key in acronyms_dict:\n",
    "    if ' / ' in acronyms_dict[key]:\n",
    "        idx = acronyms_dict[key].index('/ ')\n",
    "        acronyms_dict[key] = acronyms_dict[key][:idx]"
   ]
  },
  {
   "cell_type": "code",
   "execution_count": 82,
   "metadata": {
    "collapsed": true
   },
   "outputs": [],
   "source": [
    "#correct descriptions\n",
    "for key in acronyms_dict:\n",
    "    acronyms_dict[key] = correct(acronyms_dict[key])"
   ]
  },
  {
   "cell_type": "markdown",
   "metadata": {},
   "source": [
    "##### Smileys dictionary"
   ]
  },
  {
   "cell_type": "code",
   "execution_count": 87,
   "metadata": {},
   "outputs": [
    {
     "data": {
      "text/plain": [
       "248"
      ]
     },
     "execution_count": 87,
     "metadata": {},
     "output_type": "execute_result"
    }
   ],
   "source": [
    "idx = np.arange(int(len(smileys)/2))\n",
    "smileys_dict = dict(zip(smileys[2*idx], smileys[2*idx+1]))\n",
    "len(smileys_dict)"
   ]
  },
  {
   "cell_type": "code",
   "execution_count": 94,
   "metadata": {},
   "outputs": [],
   "source": [
    "#Remove multi explications\n",
    "for key in smileys_dict:\n",
    "    if '- ' in smileys_dict[key]:\n",
    "        idx = smileys_dict[key].index('- ')\n",
    "        smileys_dict[key] = smileys_dict[key][:idx]"
   ]
  },
  {
   "cell_type": "code",
   "execution_count": 95,
   "metadata": {
    "collapsed": true
   },
   "outputs": [],
   "source": [
    "#correct descriptions\n",
    "for key in smileys_dict:\n",
    "    smileys_dict[key] = correct(smileys_dict[key])"
   ]
  },
  {
   "cell_type": "code",
   "execution_count": 96,
   "metadata": {},
   "outputs": [
    {
     "data": {
      "text/plain": [
       "{'\":)\"': 'quoth the smiley',\n",
       " '#-)': 'blinking',\n",
       " '#:-)': 'messy hair',\n",
       " '$-)': 'yuppie',\n",
       " '$__$': 'sees money',\n",
       " \"%')\": 'very tired',\n",
       " '%)': 'confused',\n",
       " '%*@:-(': 'hungover with headache',\n",
       " '%*@:-)': 'freaking out',\n",
       " '%*}': 'inebriated',\n",
       " '%+{': 'lost fight',\n",
       " '%-)': 'staring at screen for 15 hours',\n",
       " '%-6': 'brain dead',\n",
       " '%-|': 'been up all night',\n",
       " '%-}': 'dizzy',\n",
       " '%od': 'laughing like crazy',\n",
       " '&-l': 'makes me cry',\n",
       " '&-|': 'tearful',\n",
       " '&:-)': 'curly hair',\n",
       " \"'-)\": 'winking',\n",
       " \"':-/\": 'skeptical again',\n",
       " '(((((:-{=': 'rave dude',\n",
       " '(((h)))': 'big hug',\n",
       " '(-)': 'needs haircut',\n",
       " '(-:': 'left hand',\n",
       " '(8-{)}': 'sunglasses mustache beard',\n",
       " '(8{': 'john lennon',\n",
       " '(:-': 'blank expression',\n",
       " '(:-(': 'very unhappy',\n",
       " '(:-)': 'big face',\n",
       " '(:-d': 'blabber mouth',\n",
       " '(:-{~': 'beard',\n",
       " '(:-|': 'egghead',\n",
       " '([(': 'robocop',\n",
       " '(^~^~^)': 'hot ass walking away',\n",
       " '(_8(|)': 'homer simpson',\n",
       " '(_8^(|)': 'homer simpson',\n",
       " '(y):-p': 'donald trump',\n",
       " '(|):-)=ii=': 'jewish blonde',\n",
       " ')8-)': 'scuba diver with hair',\n",
       " '):-(': 'nordic',\n",
       " '):-)': 'smiley with hair',\n",
       " '*!#*!^*&:-': 'total head case',\n",
       " '*:*': 'fuzzy',\n",
       " '*:*}': 'fuzzy with mustache',\n",
       " '*<):o)': 'clown',\n",
       " '*<<<<+': 'christmas tree',\n",
       " '*<|:-)': 'santa claus',\n",
       " '*^_^*': 'huge dazzling grin',\n",
       " '+-(': 'shot between the eyes',\n",
       " '+:-)': 'priest',\n",
       " '+<:-)': 'pope',\n",
       " ',-)': 'winking happy',\n",
       " ',-}': 'wry and winking',\n",
       " ',:-)': 'sweating on the other side',\n",
       " '-(:)(0)=8': 'teletubby',\n",
       " \".')\": 'wink',\n",
       " '/8^{~': 'sunglasses mustache goatee',\n",
       " '/:-)': 'frenchman with beret',\n",
       " '/;-)': 'heavy eyebrows',\n",
       " '0*-)': 'angel wink',\n",
       " '0;-)': 'angel wink',\n",
       " '0|-)': 'enjoying the sun',\n",
       " '3:*>': 'rudolph the red nose reindeer',\n",
       " '3:[': 'pitbull',\n",
       " '3:]': 'pet dog',\n",
       " '5:-)': 'elvis',\n",
       " '8(:-)': 'mickey mouse',\n",
       " '8)': 'frog',\n",
       " '8*)': 'glasses and half mustache',\n",
       " '8-)': 'wearing contacts',\n",
       " '8-0': 'shocked',\n",
       " '8-o': 'omigod',\n",
       " '8:-)': 'little girl',\n",
       " '8<)': 'glasses smiley',\n",
       " '8<:-)': 'wizard',\n",
       " '8>': 'penguin',\n",
       " ':#)': 'drunk',\n",
       " ':%)%': 'has acne',\n",
       " ':(': 'sad turtle',\n",
       " ':(#)': 'has braces variation',\n",
       " ':)': 'midget',\n",
       " ':))': 'super happy face',\n",
       " ':*(': 'crying softly',\n",
       " ':*)': 'drinking every night',\n",
       " ':-!': 'foot in mouth',\n",
       " ':-\"': 'whistling',\n",
       " ':-#': 'my lips are sealed',\n",
       " ':-#|': 'bushy mustache',\n",
       " ':-$': 'rich smiley',\n",
       " ':-&': 'tongue tied',\n",
       " \":-'\": 'has dimple',\n",
       " ':-(': 'sad',\n",
       " ':-(*)': 'makes me sick',\n",
       " ':-(0)': 'yelling',\n",
       " ':-(<|': 'standing firm',\n",
       " ':-(=)': 'bucktoothed',\n",
       " ':-)': 'basic',\n",
       " ':-))': 'really happy',\n",
       " ':-)))': 'very happy',\n",
       " ':-)---': 'thin as pin',\n",
       " ':-)8:': 'woman',\n",
       " ':-)8<': 'big girl',\n",
       " ':-)^<': 'big boy',\n",
       " ':-){': 'beard',\n",
       " ':-*': 'kiss on the cheek',\n",
       " ':-,': 'smirk',\n",
       " ':---)': 'pinnochio',\n",
       " ':-.)': 'cindy crawford',\n",
       " ':-/': 'skeptical',\n",
       " ':-0': 'talkative',\n",
       " ':-1': 'whatever',\n",
       " ':-3': 'mustache handlebar type',\n",
       " ':-6': 'eating something spicy',\n",
       " ':-7': 'skeptical variation',\n",
       " ':-8(': 'condescending stare',\n",
       " ':-9': 'licking lips',\n",
       " ':-<': 'walrus',\n",
       " ':->': 'sarcastic',\n",
       " ':-?': 'smoking pipe',\n",
       " ':-@': 'screaming',\n",
       " ':-@!': 'cursing',\n",
       " ':-[': 'vampire',\n",
       " ':-]': 'blockhead',\n",
       " ':-`|': 'have cold',\n",
       " ':-a': 'tongue touching nose',\n",
       " ':-b': 'drooling out of both sides of mouth',\n",
       " ':-c': 'real unhappy',\n",
       " ':-d': 'said with smile',\n",
       " ':-e': 'bucktoothed vampire',\n",
       " ':-f': 'bucktoothed vampire with one tooth missing',\n",
       " ':-i': 'semismile',\n",
       " ':-q': 'smoking while talking',\n",
       " ':-r': 'rasberry',\n",
       " ':-s': 'makes no sense',\n",
       " ':-t': 'pouting',\n",
       " ':-v': 'shouting',\n",
       " ':-w': 'forked tongue',\n",
       " ':-x': 'big wet kiss',\n",
       " ':-y': 'said with smile variation',\n",
       " ':-z': 'angry face',\n",
       " ':-{': 'mustache',\n",
       " ':-{0': 'basic mustache',\n",
       " ':-{{': 'angry very',\n",
       " ':-{}': 'wearing lipstick',\n",
       " ':-|': 'unfazed',\n",
       " ':-}': 'embarrassed smile',\n",
       " ':-})': 'handlebar mustache',\n",
       " ':-}x': 'bow tiewearing',\n",
       " ':/)': 'not amused',\n",
       " ':0': 'surprised',\n",
       " ':0)': 'big nose smiley',\n",
       " ':3-]': 'dog',\n",
       " ':8)': 'pig',\n",
       " ':=': 'beaver',\n",
       " ':=)': 'orangutan',\n",
       " ':^)': 'personality',\n",
       " ':^{=': 'frank zappa',\n",
       " ':`-(': 'crying',\n",
       " ':d': 'sweet big smile for you',\n",
       " ':d<3': 'big smiley with big bust',\n",
       " ':o': 'singing',\n",
       " ':oã£âž': 'grinning and sticking tongue out',\n",
       " ':p': 'smiley with tongue hanging out',\n",
       " ':~)': 'wondering',\n",
       " ':~-(': 'bawling',\n",
       " ';)': 'left winking male smiley',\n",
       " ';-(': 'chin up',\n",
       " ';-)': 'winking variation',\n",
       " ';-,': 'like duh',\n",
       " ';-p': 'winking smiley with sly expression',\n",
       " ';^)': 'smirking',\n",
       " ';^?': 'wigged out',\n",
       " \"<(-'.'-)>\": 'puppy dog',\n",
       " '<:)>': 'super smiley',\n",
       " '<:-l': 'dunce',\n",
       " '<:>==': 'turkey',\n",
       " '=%-o': 'stared at computer way too long',\n",
       " '=)': 'happy face',\n",
       " '=):-)': 'uncle sam',\n",
       " '=8-0': 'yikes',\n",
       " '=:-(': 'punk not smiling',\n",
       " '=:-)': 'punk',\n",
       " '=:-h': 'football player',\n",
       " '=d': 'happy happy big smiley',\n",
       " '=|:o}': 'bill clinton smiley',\n",
       " '>*': 'kitty does not like taking its pill',\n",
       " '>-)': 'evil grin',\n",
       " '>.<': 'pucker face',\n",
       " '>:)': 'evil',\n",
       " '>:-(': 'annoyed',\n",
       " '>:->': 'devilish',\n",
       " '>:-l': 'klingon',\n",
       " '>;->': 'lewd remark',\n",
       " '>^,,^<': 'kitty cat',\n",
       " '?-(': 'black eye',\n",
       " '?-)': 'proud of black eye',\n",
       " '?-:': 'left handed tongue touching nose',\n",
       " '@(*0*)@': 'koala',\n",
       " '@:-)': 'wavy hair',\n",
       " '@:-}': 'just back from hairdresser',\n",
       " '@>--;--': 'rose',\n",
       " '@@@@:-)': 'marge simpson',\n",
       " '@|-)': 'meditating smiley',\n",
       " '@};---': 'rose',\n",
       " '[:-)': 'wearing walkman',\n",
       " '[:]': 'robot',\n",
       " ']-i': 'wearing sunglasses',\n",
       " '`:-)': 'sweating',\n",
       " 'b-)': 'wearing glasses',\n",
       " 'c=:-)': 'chef',\n",
       " 'd:-)': 'baseball',\n",
       " \"g(-'.'g)\": 'fighting kid',\n",
       " 'h-)': 'crosseyed',\n",
       " 'i:(': 'botox smiley',\n",
       " 'l-o': 'yawning',\n",
       " 'l:-o': 'flattop loudmouth',\n",
       " 'l^o': 'hepcat',\n",
       " 'm:-)': 'saluting',\n",
       " 'o-)': 'smiley after smoking banana',\n",
       " 'o:-)': 'angel',\n",
       " 'o[-<]:': 'am skater or like to skate',\n",
       " 'p-(': 'pirate',\n",
       " 'q:-)': 'catcher',\n",
       " 'x-(': 'mad',\n",
       " 'x/)': 'blinded by love',\n",
       " 'x:-)': 'propeller head',\n",
       " 'x:-/': 'uncertain',\n",
       " '{(:-)': 'wearing toupee',\n",
       " '{:-)': 'wears toupee',\n",
       " '{:-{)}': 'mustache and beard',\n",
       " '|-(': 'lost contact lenses',\n",
       " '|:-)': 'unibrow',\n",
       " '|:-|': 'unyielding',\n",
       " '|^o': 'yawning or snoring variation',\n",
       " '}(:-(': 'toupee blowing in wind',\n",
       " '})i({': 'butterfly',\n",
       " '}:-)': 'hair parted in the middle sticking up on sides',\n",
       " '}:-x': 'cat',\n",
       " '}:^#)': 'pointy nosed',\n",
       " '}|{': 'butterfly',\n",
       " '~*=': 'kitty running away from you',\n",
       " '~:-(': 'really bummed out',\n",
       " '~:-p': 'single hair',\n",
       " '~:o': 'baby',\n",
       " '~~8-o': 'badhair day',\n",
       " '~~:-(': 'getting rained on',\n",
       " '~~~~8}': 'snake'}"
      ]
     },
     "execution_count": 96,
     "metadata": {},
     "output_type": "execute_result"
    }
   ],
   "source": [
    "smileys_dict"
   ]
  },
  {
   "cell_type": "markdown",
   "metadata": {},
   "source": [
    "#### Final Dictionary"
   ]
  },
  {
   "cell_type": "code",
   "execution_count": 97,
   "metadata": {},
   "outputs": [
    {
     "data": {
      "text/plain": [
       "36662"
      ]
     },
     "execution_count": 97,
     "metadata": {},
     "output_type": "execute_result"
    }
   ],
   "source": [
    "len(english_dictionary)"
   ]
  },
  {
   "cell_type": "code",
   "execution_count": 98,
   "metadata": {
    "collapsed": true
   },
   "outputs": [],
   "source": [
    "final_dict = { k:k for k, v in english_dictionary.items() if k not in contractions_dict }\n",
    "freq_dict = { k:v for k, v in english_dictionary.items() if k not in contractions_dict }"
   ]
  },
  {
   "cell_type": "code",
   "execution_count": 99,
   "metadata": {},
   "outputs": [
    {
     "data": {
      "text/plain": [
       "(36662, 36595)"
      ]
     },
     "execution_count": 99,
     "metadata": {},
     "output_type": "execute_result"
    }
   ],
   "source": [
    "len(english_dictionary), len(freq_dict)"
   ]
  },
  {
   "cell_type": "code",
   "execution_count": 100,
   "metadata": {
    "collapsed": true
   },
   "outputs": [],
   "source": [
    "final_dict.update(contractions_dict)\n",
    "final_dict.update(acronyms_dict)\n",
    "final_dict.update(smileys_dict)"
   ]
  },
  {
   "cell_type": "code",
   "execution_count": 101,
   "metadata": {
    "collapsed": true
   },
   "outputs": [],
   "source": [
    "pickle.dump([final_dict, freq_dict], open('../data/dictionaries.p', 'wb'))"
   ]
  },
  {
   "cell_type": "code",
   "execution_count": 102,
   "metadata": {
    "collapsed": true
   },
   "outputs": [],
   "source": [
    "data = pickle.load( open('../data/dictionaries.p', 'rb'))"
   ]
  },
  {
   "cell_type": "code",
   "execution_count": 103,
   "metadata": {
    "collapsed": true
   },
   "outputs": [],
   "source": [
    "final_dict = data[0]"
   ]
  },
  {
   "cell_type": "code",
   "execution_count": 104,
   "metadata": {},
   "outputs": [
    {
     "data": {
      "text/plain": [
       "'can not'"
      ]
     },
     "execution_count": 104,
     "metadata": {},
     "output_type": "execute_result"
    }
   ],
   "source": [
    "final_dict[\"can't\"]"
   ]
  }
 ],
 "metadata": {
  "kernelspec": {
   "display_name": "Python [conda root]",
   "language": "python",
   "name": "conda-root-py"
  },
  "language_info": {
   "codemirror_mode": {
    "name": "ipython",
    "version": 3
   },
   "file_extension": ".py",
   "mimetype": "text/x-python",
   "name": "python",
   "nbconvert_exporter": "python",
   "pygments_lexer": "ipython3",
   "version": "3.6.3"
  }
 },
 "nbformat": 4,
 "nbformat_minor": 2
}
